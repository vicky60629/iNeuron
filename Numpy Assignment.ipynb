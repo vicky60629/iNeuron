{
 "cells": [
  {
   "cell_type": "markdown",
   "metadata": {},
   "source": [
    "### Write a function so that the columns of the output matrix are powers of the input   <br>                                                   vector.         <br>                                                                                                                                                                                         The order of the powers is determined by the increasing boolean argument. Specifically, when<br>                                increasing is False, the i-th output column is the input vector raised element-wise to the power<br>                 of N - i - 1.<br>                                                                                                                                                                    HINT: Such a matrix with a geometric progression in each row is named for Alexandre Theophile Vandermonde.<br>\n"
   ]
  },
  {
   "cell_type": "code",
   "execution_count": 1,
   "metadata": {},
   "outputs": [],
   "source": [
    "import numpy as np"
   ]
  },
  {
   "cell_type": "code",
   "execution_count": 2,
   "metadata": {},
   "outputs": [],
   "source": [
    "def power(inp,inc):\n",
    "    return np.vander(inp,increasing=inc)"
   ]
  },
  {
   "cell_type": "code",
   "execution_count": 3,
   "metadata": {},
   "outputs": [
    {
     "data": {
      "text/plain": [
       "array([[  1,   1,   1,   1],\n",
       "       [  1,   2,   4,   8],\n",
       "       [  1,   3,   9,  27],\n",
       "       [  1,   5,  25, 125]])"
      ]
     },
     "execution_count": 3,
     "metadata": {},
     "output_type": "execute_result"
    }
   ],
   "source": [
    "inp=np.array([1, 2, 3, 5])\n",
    "inc=True\n",
    "power(inp,inc)"
   ]
  },
  {
   "cell_type": "markdown",
   "metadata": {},
   "source": [
    "### Problem Statement 2:<br>                                                                                                                                                       Given a sequence of n values x1, x2, ..., xn and a window size k>0, the k-th moving average of<br>                                         the given sequence is defined as follows:<br>                                                                                                                         The moving average sequence has n-k+1 elements as shown below.<br>                                                                      The moving averages with k=4 of a ten-value sequence (n=10) is shown below<br>                                                           i 1 2 3 4 5 6 7 8 9 10<br>                                                                                                                                                              ===== == == == == == == == == == ==<br>                                                                                                                    Input 10 20 30 40 50 60 70 80 90 100<br>                                                                                                                                        y1 25 = (10+20+30+40)/4<br>                                                                                                                                                       y2 35 = (20+30+40+50)/4<br>                                                                                                                                                             y3 45 = (30+40+50+60)/4<br>                                                                                                                                                    y4 55 = (40+50+60+70)/4<br>                                                                                                                                                    y5 65 = (50+60+70+80)/4<br>                                                                                                                                                        y6 75 = (60+70+80+90)/4<br>                                                                                                                                                  y7 85 = (70+80+90+100)/4<br>                                                                                                                                           Thus, the moving average sequence has n-k+1=10-4+1=7 values.<br>\n",
    "Question: Write a function to find moving average in an array over a window:\n",
    " Test it over [3, 5, 7, 2, 8, 10, 11, 65, 72, 81, 99, 100, 150] and window of 3."
   ]
  },
  {
   "cell_type": "code",
   "execution_count": 1,
   "metadata": {},
   "outputs": [],
   "source": [
    "def average(a,k):\n",
    "    n=len(a)\n",
    "    k=3\n",
    "    for i in range(n-k+1):\n",
    "        print(sum(a[i:i+k])/k) "
   ]
  },
  {
   "cell_type": "code",
   "execution_count": 2,
   "metadata": {},
   "outputs": [
    {
     "name": "stdout",
     "output_type": "stream",
     "text": [
      "5.0\n",
      "4.666666666666667\n",
      "5.666666666666667\n",
      "6.666666666666667\n",
      "9.666666666666666\n",
      "28.666666666666668\n",
      "49.333333333333336\n",
      "72.66666666666667\n",
      "84.0\n",
      "93.33333333333333\n",
      "116.33333333333333\n"
     ]
    }
   ],
   "source": [
    "average([3, 5, 7, 2, 8, 10, 11, 65, 72, 81, 99, 100, 150],3)"
   ]
  },
  {
   "cell_type": "code",
   "execution_count": null,
   "metadata": {},
   "outputs": [],
   "source": []
  }
 ],
 "metadata": {
  "kernelspec": {
   "display_name": "Python 3",
   "language": "python",
   "name": "python3"
  },
  "language_info": {
   "codemirror_mode": {
    "name": "ipython",
    "version": 3
   },
   "file_extension": ".py",
   "mimetype": "text/x-python",
   "name": "python",
   "nbconvert_exporter": "python",
   "pygments_lexer": "ipython3",
   "version": "3.7.7"
  }
 },
 "nbformat": 4,
 "nbformat_minor": 4
}
