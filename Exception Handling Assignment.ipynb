{
 "cells": [
  {
   "cell_type": "markdown",
   "metadata": {},
   "source": [
    "### 1. Write a function to compute 5/0 and use try/except to catch the exceptions."
   ]
  },
  {
   "cell_type": "code",
   "execution_count": 1,
   "metadata": {},
   "outputs": [],
   "source": [
    "def exception():\n",
    "    try:\n",
    "        print(5/0)\n",
    "    except Exception as ex:\n",
    "        print(\"The error in block is : \",ex)"
   ]
  },
  {
   "cell_type": "code",
   "execution_count": 2,
   "metadata": {},
   "outputs": [
    {
     "name": "stdout",
     "output_type": "stream",
     "text": [
      "The error in block is :  division by zero\n"
     ]
    }
   ],
   "source": [
    "exception()"
   ]
  },
  {
   "cell_type": "markdown",
   "metadata": {},
   "source": [
    "### 2. Implement a Python program to generate all sentences where subject is in <br>                                                               [\"Americans\", \"Indians\"] and verb is in [\"Play\", \"watch\"] and the object is in    <br>                                                                   [\"Baseball\",\"cricket\"].                                                                                                                                                                    Hint: Subject,Verb and Object should be declared in the program as shown below.   <br>                                                   subjects=[\"Americans \",\"Indians\"] <br>                                                                                                                                          verbs=[\"play\",\"watch\"]           <br>                                                                                                                                                    objects=[\"Baseball\",\"Cricket\"]      <br>                                                                                                                                       Output should come as below:    <br>                                                                                                                                                Americans play Baseball.  <br>                                                                                                                                                         Americans play Cricket.   <br>                                                                                                                                                         Americans watch Baseball.  <br>                                                                                                                                                    Americans watch Cricket. <br>                                                                                                                                                         Indians play Baseball.  <br>                                                                                                                                                               Indians play Cricket. <br>                                                                                                                                                                    Indians watch Baseball.<br>                                                                                                                                                             Indians watch Cricket."
   ]
  },
  {
   "cell_type": "code",
   "execution_count": 4,
   "metadata": {},
   "outputs": [],
   "source": [
    "subjects=[\"Americans \",\"Indians\"]\n",
    "verbs=[\"play\",\"watch\"]\n",
    "objects=[\"Baseball\",\"Cricket\"]"
   ]
  },
  {
   "cell_type": "code",
   "execution_count": 5,
   "metadata": {},
   "outputs": [],
   "source": [
    "def playwatch():\n",
    "    for i in subjects:\n",
    "        for j in verbs:\n",
    "            for k in objects:\n",
    "                print(i + ' ' + j + ' ' + k + '.')"
   ]
  },
  {
   "cell_type": "code",
   "execution_count": 6,
   "metadata": {},
   "outputs": [
    {
     "name": "stdout",
     "output_type": "stream",
     "text": [
      "Americans  play Baseball.\n",
      "Americans  play Cricket.\n",
      "Americans  watch Baseball.\n",
      "Americans  watch Cricket.\n",
      "Indians play Baseball.\n",
      "Indians play Cricket.\n",
      "Indians watch Baseball.\n",
      "Indians watch Cricket.\n"
     ]
    }
   ],
   "source": [
    "playwatch()"
   ]
  },
  {
   "cell_type": "code",
   "execution_count": null,
   "metadata": {},
   "outputs": [],
   "source": []
  },
  {
   "cell_type": "code",
   "execution_count": null,
   "metadata": {},
   "outputs": [],
   "source": []
  }
 ],
 "metadata": {
  "kernelspec": {
   "display_name": "Python 3",
   "language": "python",
   "name": "python3"
  },
  "language_info": {
   "codemirror_mode": {
    "name": "ipython",
    "version": 3
   },
   "file_extension": ".py",
   "mimetype": "text/x-python",
   "name": "python",
   "nbconvert_exporter": "python",
   "pygments_lexer": "ipython3",
   "version": "3.7.7"
  }
 },
 "nbformat": 4,
 "nbformat_minor": 4
}
